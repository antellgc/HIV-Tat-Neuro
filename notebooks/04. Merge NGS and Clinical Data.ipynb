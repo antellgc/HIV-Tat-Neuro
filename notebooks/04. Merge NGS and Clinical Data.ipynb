{
 "cells": [
  {
   "cell_type": "markdown",
   "metadata": {},
   "source": [
    "# Merge NGS and Clinical Data"
   ]
  },
  {
   "cell_type": "markdown",
   "metadata": {
    "collapsed": true
   },
   "source": [
    "This notebook combines the NGS data of Tat alognside the corresponding clinical data for each patient.\n",
    "\n",
    "<p><b>Input:</b></p>\n",
    "<ul>\n",
    "<li>REDCAP data csv file\n",
    "<li>Long-form profiles of NGS data, as percentage (tat_freq_profile.csv)\n",
    "<li>Long-form profiles of NGS data, as raw counts (tat_count_profile.csv)\n",
    "</ul>\n",
    "<p><b>Output:</b></p>\n",
    "<ul>\n",
    "<li>csv file containing all clinical information\n",
    "</ul>"
   ]
  },
  {
   "cell_type": "markdown",
   "metadata": {},
   "source": [
    "# Import requirements and modules"
   ]
  },
  {
   "cell_type": "code",
   "execution_count": null,
   "metadata": {
    "collapsed": true
   },
   "outputs": [],
   "source": []
  },
  {
   "cell_type": "markdown",
   "metadata": {},
   "source": [
    "# Import data"
   ]
  },
  {
   "cell_type": "code",
   "execution_count": null,
   "metadata": {
    "collapsed": true
   },
   "outputs": [],
   "source": [
    "seq_abundance_df = pd.read_csv('../NGSProfiles/NGSprofile.csv')\n",
    "print seq_abundance_df.shape\n",
    "\n",
    "seq_counts_df = pd.read_csv('../NGSProfiles/NGScounts.csv')\n",
    "print seq_counts_df.shape\n",
    "\n",
    "clinical_df = pd.read_csv('../Cohort/full_clinical.csv')\n",
    "print clinical_df.shape"
   ]
  },
  {
   "cell_type": "markdown",
   "metadata": {},
   "source": [
    "# Merge Data"
   ]
  },
  {
   "cell_type": "markdown",
   "metadata": {},
   "source": [
    "# Drop missing values "
   ]
  },
  {
   "cell_type": "code",
   "execution_count": null,
   "metadata": {
    "collapsed": true
   },
   "outputs": [],
   "source": [
    "GDSmerged_df = merged_df1.dropna(axis=0, subset=['GDS'])\n",
    "TMHDSmerged_df = merged_df1.dropna(axis=0, subset=['TMHDS'])\n",
    "TMHDSGDSmerged_df = TMHDSmerged_df.dropna(axis=0, subset=['GDS'])\n",
    "print GDSmerged_df.shape\n",
    "print TMHDSmerged_df.shape\n",
    "print TMHDSGDSmerged_df.shape\n",
    "\n",
    "GDSmerged_counts_df = merged_df2.dropna(axis=0, subset=['GDS'])\n",
    "TMHDSmerged_counts_df = merged_df2.dropna(axis=0, subset=['TMHDS'])\n",
    "TMHDSGDSmerged_counts_df = TMHDSmerged_counts_df.dropna(axis=0, subset=['GDS'])\n",
    "print GDSmerged_counts_df.shape\n",
    "print TMHDSmerged_counts_df.shape\n",
    "print TMHDSGDSmerged_counts_df.shape"
   ]
  },
  {
   "cell_type": "markdown",
   "metadata": {},
   "source": [
    "# Save the merged long-form data"
   ]
  },
  {
   "cell_type": "code",
   "execution_count": null,
   "metadata": {
    "collapsed": true
   },
   "outputs": [],
   "source": []
  }
 ],
 "metadata": {
  "kernelspec": {
   "display_name": "Python 3",
   "language": "python",
   "name": "python3"
  },
  "language_info": {
   "codemirror_mode": {
    "name": "ipython",
    "version": 3
   },
   "file_extension": ".py",
   "mimetype": "text/x-python",
   "name": "python",
   "nbconvert_exporter": "python",
   "pygments_lexer": "ipython3",
   "version": "3.6.3"
  }
 },
 "nbformat": 4,
 "nbformat_minor": 2
}
