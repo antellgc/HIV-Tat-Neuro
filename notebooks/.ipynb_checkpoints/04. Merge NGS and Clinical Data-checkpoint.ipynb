{
 "cells": [
  {
   "cell_type": "markdown",
   "metadata": {},
   "source": [
    "# 04. Merge NGS and Clinical Data"
   ]
  },
  {
   "cell_type": "markdown",
   "metadata": {
    "collapsed": true
   },
   "source": [
    "This notebook combines the NGS data of Tat alognside the corresponding clinical data for each patient.\n",
    "\n",
    "<p><b>Input:</b></p>\n",
    "<ul>\n",
    "<li>REDCAP data csv file\n",
    "<li>Long-form profiles of NGS data, as percentage (tat_freq_profile.csv)\n",
    "<li>Long-form profiles of NGS data, as raw counts (tat_count_profile.csv)\n",
    "</ul>\n",
    "<p><b>Output:</b></p>\n",
    "<ul>\n",
    "<li>Merged data files, stratified according to matched neurological testing data (GDS or TMHDS) and sequencing information format (relative abundance or raw counts)\n",
    "</ul>"
   ]
  },
  {
   "cell_type": "markdown",
   "metadata": {},
   "source": [
    "# Import requirements and modules"
   ]
  },
  {
   "cell_type": "code",
   "execution_count": 1,
   "metadata": {
    "collapsed": true
   },
   "outputs": [],
   "source": [
    "import pandas as pd\n",
    "import numpy as np"
   ]
  },
  {
   "cell_type": "markdown",
   "metadata": {},
   "source": [
    "# Import data"
   ]
  },
  {
   "cell_type": "code",
   "execution_count": 3,
   "metadata": {},
   "outputs": [
    {
     "name": "stdout",
     "output_type": "stream",
     "text": [
      "(9784, 25)\n",
      "(9784, 25)\n",
      "(3055, 52)\n"
     ]
    }
   ],
   "source": [
    "seq_abundance_df = pd.read_csv('../data/tat_profiles/tat_freq_profile.csv')\n",
    "print(seq_abundance_df.shape)\n",
    "\n",
    "seq_counts_df = pd.read_csv('../data/tat_profiles/tat_count_profile.csv')\n",
    "print(seq_counts_df.shape)\n",
    "\n",
    "clinical_df = pd.read_csv('../data/processed_clinical/full_clinical.csv')\n",
    "print(clinical_df.shape)"
   ]
  },
  {
   "cell_type": "markdown",
   "metadata": {},
   "source": [
    "# Merge Data"
   ]
  },
  {
   "cell_type": "code",
   "execution_count": 9,
   "metadata": {},
   "outputs": [
    {
     "name": "stdout",
     "output_type": "stream",
     "text": [
      "(9684, 75)\n",
      "(9684, 75)\n"
     ]
    }
   ],
   "source": [
    "def merge_data_sources(df1, df2):\n",
    "    merged_df = pd.merge(df1, df2,\n",
    "                left_on = ['Patient','Visit'],\n",
    "                right_on = ['Patient','Visit'],\n",
    "                how = 'inner')\n",
    "    merged_df.sort_values(['AAPos','Patient','Visit'],  inplace=True)\n",
    "    return merged_df\n",
    "    \n",
    "merged_df1 = merge_data_sources(clinical_df, seq_abundance_df)\n",
    "print(merged_df1.shape)\n",
    "\n",
    "merged_df2 = merge_data_sources(clinical_df, seq_counts_df)\n",
    "print(merged_df2.shape)"
   ]
  },
  {
   "cell_type": "markdown",
   "metadata": {},
   "source": [
    "# Drop missing values "
   ]
  },
  {
   "cell_type": "code",
   "execution_count": 12,
   "metadata": {},
   "outputs": [
    {
     "name": "stdout",
     "output_type": "stream",
     "text": [
      "(9684, 75)\n",
      "(9354, 75)\n",
      "(9354, 75)\n",
      "(9684, 75)\n",
      "(9354, 75)\n",
      "(9354, 75)\n"
     ]
    }
   ],
   "source": [
    "GDSmerged_abundance_df = merged_df1.dropna(axis=0, subset=['GDS'])\n",
    "TMHDSmerged_abundance_df = merged_df1.dropna(axis=0, subset=['TMHDS'])\n",
    "TMHDSGDSmerged_abundance_df = TMHDSmerged_abundance_df.dropna(axis=0, subset=['GDS'])\n",
    "print(GDSmerged_abundance_df.shape)\n",
    "print(TMHDSmerged_abundance_df.shape)\n",
    "print(TMHDSGDSmerged_abundance_df.shape)\n",
    "\n",
    "GDSmerged_counts_df = merged_df2.dropna(axis=0, subset=['GDS'])\n",
    "TMHDSmerged_counts_df = merged_df2.dropna(axis=0, subset=['TMHDS'])\n",
    "TMHDSGDSmerged_counts_df = TMHDSmerged_counts_df.dropna(axis=0, subset=['GDS'])\n",
    "print(GDSmerged_counts_df.shape)\n",
    "print(TMHDSmerged_counts_df.shape)\n",
    "print(TMHDSGDSmerged_counts_df.shape)"
   ]
  },
  {
   "cell_type": "markdown",
   "metadata": {},
   "source": [
    "# Save the merged long-form data"
   ]
  },
  {
   "cell_type": "code",
   "execution_count": 14,
   "metadata": {
    "collapsed": true
   },
   "outputs": [],
   "source": [
    "# merged proportional data\n",
    "GDSmerged_abundance_df.to_csv('../data/merged_data/NGS_GDS_abundance.csv', index=False)\n",
    "TMHDSmerged_abundance_df.to_csv('../data/merged_data/NGS_TMHDS_abundance.csv', index=False)\n",
    "TMHDSGDSmerged_abundance_df.to_csv('../data/merged_data/NGS_BOTH_abundance.csv', index=False)\n",
    "\n",
    "# merged raw counts data\n",
    "GDSmerged_counts_df.to_csv('../data/merged_data/NGS_GDS_counts.csv', index=False)\n",
    "TMHDSmerged_counts_df.to_csv('../data/merged_data/NGS_TMHDS_counts.csv', index=False)\n",
    "TMHDSGDSmerged_counts_df.to_csv('../data/merged_data/NGS_BOTH_counts.csv', index=False)"
   ]
  }
 ],
 "metadata": {
  "kernelspec": {
   "display_name": "Python 3",
   "language": "python",
   "name": "python3"
  },
  "language_info": {
   "codemirror_mode": {
    "name": "ipython",
    "version": 3
   },
   "file_extension": ".py",
   "mimetype": "text/x-python",
   "name": "python",
   "nbconvert_exporter": "python",
   "pygments_lexer": "ipython3",
   "version": "3.6.3"
  }
 },
 "nbformat": 4,
 "nbformat_minor": 2
}
