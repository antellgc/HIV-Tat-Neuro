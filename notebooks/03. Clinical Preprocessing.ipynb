{
 "cells": [
  {
   "cell_type": "markdown",
   "metadata": {},
   "source": [
    "# Clinical Preprocessing"
   ]
  },
  {
   "cell_type": "markdown",
   "metadata": {},
   "source": [
    "<p>This notebook imports and organizes clinical data corresponding to the patient samples that have been evaluated for HIV-associated neurocogntive disorders and assigned a Global Deficit Score (GDS). This data is stored in a csv file that is a data dump from REDCAP, as well as a file containing the results of neurocognitive assessments. All of the patients in this study belong to the DrexelMed CARES Cohort.</p>\n",
    "<p><b>Input:</b></p>\n",
    "<ul>\n",
    "<li>REDCAP data csv file\n",
    "<li>Drexel CARES neurocognitive impairment file\n",
    "</ul>\n",
    "<p><b>Output:</b></p>\n",
    "<ul>\n",
    "<li>csv file containing all clinical information\n",
    "</ul>"
   ]
  },
  {
   "cell_type": "markdown",
   "metadata": {},
   "source": [
    "# Import Requirements"
   ]
  },
  {
   "cell_type": "code",
   "execution_count": 3,
   "metadata": {
    "collapsed": true
   },
   "outputs": [],
   "source": [
    "import pandas as pd\n",
    "import matplotlib.pyplot as plt\n",
    "%matplotlib inline"
   ]
  },
  {
   "cell_type": "markdown",
   "metadata": {},
   "source": [
    "# Import RedCap data"
   ]
  },
  {
   "cell_type": "code",
   "execution_count": null,
   "metadata": {
    "collapsed": true
   },
   "outputs": [],
   "source": [
    "redcap_path = '../Cohort/DrexelMedCARESCohort_DATA_LABELS_2015-10-06_1434.csv'"
   ]
  },
  {
   "cell_type": "markdown",
   "metadata": {},
   "source": [
    "# Import GDS Data"
   ]
  },
  {
   "cell_type": "code",
   "execution_count": null,
   "metadata": {
    "collapsed": true
   },
   "outputs": [],
   "source": [
    "gds_path = '../Cohort/Drexel HIV NP Data select standardized 072815 - fixed.xlsx'\n",
    "GDS_df = pd.read_excel(gds_path, headline=1)\n",
    "GDS_df['PatientID'] = GDS_df['PatientID'].astype(str)\n",
    "print 'GDS:', GDS_df.shape\n",
    "GDS_df.head()"
   ]
  },
  {
   "cell_type": "markdown",
   "metadata": {},
   "source": [
    "# Data clean-up"
   ]
  },
  {
   "cell_type": "code",
   "execution_count": null,
   "metadata": {
    "collapsed": true
   },
   "outputs": [],
   "source": [
    "cols = {'PatientID':'Patient',\n",
    "        'Patient visit number':'Visit',\n",
    "        'Date of visit':'DateOfVisit',\n",
    "        'Initial CD4 count (cells/uL)':'iCD4',\n",
    "        'Nadir CD4 count (cells/uL)':'nCD4',\n",
    "        'Latest CD4 count (cells/uL)':'CD4',\n",
    "        'Initial CD8 count (cells/uL)': 'iCD8',\n",
    "        'Nadir CD8 count (cells/uL)': 'nCD8',\n",
    "        'Latest CD8 count (cells/uL)': 'CD8',\n",
    "        'Initial viral load (copies/mL)': 'iVL',\n",
    "        'Peak viral load (copies/mL)': 'pVL',\n",
    "        'Latest viral load': 'VL',\n",
    "        'Total Modified Hopkins Dementia Score': 'TMHDS',\n",
    "        'Gender': 'Gender',\n",
    "        'Age': 'Age',\n",
    "        'Years seropositive': 'Years_seropositive',\n",
    "        'Race (choice=Asian)': 'Race_Asian',\n",
    "        'Race (choice=American Indian/Alaska Native)': 'Race_Native_American',\n",
    "        'Race (choice=Black or African American)': 'Race_Black',\n",
    "        'Race (choice=Native Hawaiian or other Pacific Islander)': 'Race_Native_Hawaiian',\n",
    "        'Race (choice=White)': 'Race_White',\n",
    "        'Race (choice=More than one race)': 'Race_Multiple',\n",
    "        'Race (choice=Unknown)': 'Race_Unknown',\n",
    "        'Exposure Category (choice=Men who have sex with men (MSM))':'Exposure_MSM',\n",
    "        'Exposure Category (choice=Injection drug use (IDU))':'Exposure_IDU',\n",
    "        'Exposure Category (choice=Blood transfusion)':'Exposure_blood_transfusion',\n",
    "        'Exposure Category (choice=Heterosexual)':'Exposure_heterosexual',\n",
    "        'Exposure Category (choice=Hemophilia)':'Exposure_hemophilia', \n",
    "        'Exposure Category (choice=Perinatal)':'Exposure_perinatal',\n",
    "        'Exposure Category (choice=MSM and IDU)':'Exposure_MSM_and_IDU',\n",
    "        'Exposure Category (choice=Heterosexual and IDU)':'Exposure_heterosexual_and_IDU',\n",
    "        'Exposure Category (choice=Other)':'Exposure_other',\n",
    "        'Exposure Category (choice=ND)':'Exposure_unknown',\n",
    "        'Current ART status': 'ART'}\n",
    "\n",
    "col_order = ['Patient', 'Visit', 'DateOfVisit', 'Age', 'Gender', 'ART',\n",
    "             'VL', 'iVL', 'pVL', 'CD4', 'iCD4', 'nCD4', 'CD8', 'iCD8', 'nCD8',\n",
    "             'Race_Asian', 'Race_Native_American', 'Race_Black', 'Race_Native_Hawaiian',\n",
    "             'Race_White', 'Race_Multiple', 'Race_Unknown', 'Exposure_MSM',\n",
    "             'Exposure_IDU', 'Exposure_blood_transfusion', 'Exposure_heterosexual',\n",
    "             'Exposure_hemophilia', 'Exposure_perinatal', 'Exposure_MSM_and_IDU',\n",
    "             'Exposure_heterosexual_and_IDU', 'Exposure_other', 'Exposure_unknown',\n",
    "             'Years_seropositive','TMHDS']\n",
    "\n",
    "redcap_df = import_redcap_data(redcap_path)\n",
    "redcap_df['PatientID'] = redcap_df['PatientID'].astype(str)\n",
    "print 'REDCAP:', redcap_df.shape\n",
    "\n",
    "clin_df = select_clinical_parameters(redcap_df, cols)\n",
    "clin_df = clin_df[col_order]\n",
    "print 'CLIN:', clin_df.shape\n",
    "clin_df.head(5)"
   ]
  },
  {
   "cell_type": "code",
   "execution_count": null,
   "metadata": {
    "collapsed": true
   },
   "outputs": [],
   "source": [
    "visits = []\n",
    "for idx, row in GDS_df.iterrows():\n",
    "    NEURO_PATIENT = row['PatientID']\n",
    "    NEURO_DATE = row['VisitDate']    \n",
    "    \n",
    "    clin_info = clin_df[clin_df.Patient == NEURO_PATIENT][['Patient', 'Visit', 'DateOfVisit']]\n",
    "    clin_info2 = clin_info[clin_info.DateOfVisit == NEURO_DATE][['Patient', 'Visit', 'DateOfVisit']]\n",
    "    if clin_info2.empty:\n",
    "        #print NEURO_PATIENT, NEURO_DATE\n",
    "        for a, b in clin_info.dropna().iterrows():\n",
    "            days_difference = b.DateOfVisit - NEURO_DATE\n",
    "            if abs(days_difference.days) < 7:\n",
    "                visits.append(b.Visit)\n",
    "                #print ''\n",
    "    else:\n",
    "        #print NEURO_PATIENT, NEURO_DATE\n",
    "        visits.append(list(clin_info2['Visit'])[0])\n",
    "        #print ''\n",
    "        \n",
    "GDS_df['Visit'] = visits\n",
    "print GDS_df.shape\n",
    "GDS_df[['PatientID', 'Visit', 'VisitDate', 'GDS']].head()"
   ]
  },
  {
   "cell_type": "markdown",
   "metadata": {},
   "source": [
    "# Merge Data"
   ]
  },
  {
   "cell_type": "code",
   "execution_count": null,
   "metadata": {
    "collapsed": true
   },
   "outputs": [],
   "source": [
    "fullclinical_df = pd.merge(clin_df,GDS_df,\n",
    "                  left_on = ['Patient','Visit'],\n",
    "                  right_on = ['PatientID','Visit'],\n",
    "                  how = 'outer')\n",
    "\n",
    "fullclinical_df.drop(['PatientID'], axis=1, inplace=True)\n",
    "print fullclinical_df.shape\n",
    "fullclinical_df.head()"
   ]
  },
  {
   "cell_type": "markdown",
   "metadata": {},
   "source": [
    "# Fix Errors"
   ]
  },
  {
   "cell_type": "code",
   "execution_count": null,
   "metadata": {
    "collapsed": true
   },
   "outputs": [],
   "source": [
    "incorrect_columns = ['iCD4','nCD4','CD4','iCD8','nCD8','CD8','iVL','pVL','VL']\n",
    "\n",
    "for colname in incorrect_columns:\n",
    "    #print colname\n",
    "    corrected_values = []\n",
    "    for item in list(fullclinical_df[colname]):\n",
    "        l = []\n",
    "        if isinstance(item, float):\n",
    "            corrected_values.append(item)\n",
    "        elif isinstance(item, str):\n",
    "            item = item.replace('<','')\n",
    "            item = item.replace('>','')\n",
    "            item = item.replace(',','')\n",
    "            item = item.replace('?','')\n",
    "            for t in item.split():\n",
    "                try:\n",
    "                    l.append(float(t))\n",
    "                except ValueError:\n",
    "                    #pass\n",
    "                    l.append(np.nan)\n",
    "                except IndexError:\n",
    "                    l.append(np.nan)\n",
    "            #print l, item\n",
    "            corrected_values.append(l[0])\n",
    "        else:\n",
    "            print item, type(item)\n",
    "    #print len(corrected_values)\n",
    "    fullclinical_df[colname] = corrected_values\n",
    "\n",
    "print 'Full Clinical:', fullclinical_df.shape\n",
    "fullclinical_df.head()"
   ]
  },
  {
   "cell_type": "markdown",
   "metadata": {},
   "source": [
    "# Save clinical information in file"
   ]
  },
  {
   "cell_type": "code",
   "execution_count": null,
   "metadata": {
    "collapsed": true
   },
   "outputs": [],
   "source": [
    "fullclinical_df.to_csv('../Cohort/full_clinical.csv', index=False)"
   ]
  }
 ],
 "metadata": {
  "kernelspec": {
   "display_name": "Python 3",
   "language": "python",
   "name": "python3"
  },
  "language_info": {
   "codemirror_mode": {
    "name": "ipython",
    "version": 3
   },
   "file_extension": ".py",
   "mimetype": "text/x-python",
   "name": "python",
   "nbconvert_exporter": "python",
   "pygments_lexer": "ipython3",
   "version": "3.6.3"
  }
 },
 "nbformat": 4,
 "nbformat_minor": 2
}
