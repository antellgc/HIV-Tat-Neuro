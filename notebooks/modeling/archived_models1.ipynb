{
 "cells": [
  {
   "cell_type": "markdown",
   "metadata": {},
   "source": [
    "<h1>Chapter 4 Analysis</h1>\n",
    "<p>This is my final attempt at Chapter 4. May God have mercy on my soul.</p>\n",
    "<p>  ~ Gregory Antell, Boston, MA, December 2016</p>"
   ]
  },
  {
   "cell_type": "markdown",
   "metadata": {},
   "source": [
    "<h1>Requirements</h1>"
   ]
  },
  {
   "cell_type": "code",
   "execution_count": 6,
   "metadata": {
    "collapsed": false
   },
   "outputs": [],
   "source": [
    "from __future__ import division\n",
    "import pandas as pd\n",
    "import numpy as np\n",
    "import tat_neuro_functions as tnf\n",
    "from sklearn.linear_model import LogisticRegression\n",
    "import matplotlib.pyplot as plt\n",
    "import seaborn as sns\n",
    "%matplotlib inline"
   ]
  },
  {
   "cell_type": "markdown",
   "metadata": {},
   "source": [
    "<h1>Import Data</h1>\n",
    "<p>This data has been preprocessed in a separate notebook. Missing variables were imputed using a \"median\" approach, which is designated by the \"2\" in \"sklearn_preprocessed_df2\". It contains all potential features, both clinical and genetic, prior to further feature engineering.</p>"
   ]
  },
  {
   "cell_type": "code",
   "execution_count": 7,
   "metadata": {
    "collapsed": false
   },
   "outputs": [
    {
     "data": {
      "text/html": [
       "<div>\n",
       "<table border=\"1\" class=\"dataframe\">\n",
       "  <thead>\n",
       "    <tr style=\"text-align: right;\">\n",
       "      <th></th>\n",
       "      <th>Patient</th>\n",
       "      <th>Visit</th>\n",
       "      <th>Age</th>\n",
       "      <th>Gender</th>\n",
       "      <th>ART</th>\n",
       "      <th>VL</th>\n",
       "      <th>iVL</th>\n",
       "      <th>pVL</th>\n",
       "      <th>CD4</th>\n",
       "      <th>iCD4</th>\n",
       "      <th>...</th>\n",
       "      <th>101F</th>\n",
       "      <th>101P</th>\n",
       "      <th>101S</th>\n",
       "      <th>101T</th>\n",
       "      <th>101W</th>\n",
       "      <th>101Y</th>\n",
       "      <th>101V</th>\n",
       "      <th>log10_VL</th>\n",
       "      <th>log10_iVL</th>\n",
       "      <th>log10_pVL</th>\n",
       "    </tr>\n",
       "  </thead>\n",
       "  <tbody>\n",
       "    <tr>\n",
       "      <th>0</th>\n",
       "      <td>A0001</td>\n",
       "      <td>R09</td>\n",
       "      <td>59.0</td>\n",
       "      <td>Male</td>\n",
       "      <td>on</td>\n",
       "      <td>20.0</td>\n",
       "      <td>987.0</td>\n",
       "      <td>987.0</td>\n",
       "      <td>797.0</td>\n",
       "      <td>400.0</td>\n",
       "      <td>...</td>\n",
       "      <td>0.0</td>\n",
       "      <td>0.000453</td>\n",
       "      <td>0.000356</td>\n",
       "      <td>0.000000</td>\n",
       "      <td>0.000129</td>\n",
       "      <td>0.0</td>\n",
       "      <td>0.001975</td>\n",
       "      <td>1.301030</td>\n",
       "      <td>2.994317</td>\n",
       "      <td>2.994317</td>\n",
       "    </tr>\n",
       "    <tr>\n",
       "      <th>1</th>\n",
       "      <td>A0010</td>\n",
       "      <td>R08</td>\n",
       "      <td>59.0</td>\n",
       "      <td>Male</td>\n",
       "      <td>on</td>\n",
       "      <td>20.0</td>\n",
       "      <td>50.0</td>\n",
       "      <td>470.0</td>\n",
       "      <td>1167.0</td>\n",
       "      <td>448.0</td>\n",
       "      <td>...</td>\n",
       "      <td>0.0</td>\n",
       "      <td>0.000000</td>\n",
       "      <td>0.004473</td>\n",
       "      <td>0.001278</td>\n",
       "      <td>0.000000</td>\n",
       "      <td>0.0</td>\n",
       "      <td>0.000000</td>\n",
       "      <td>1.301030</td>\n",
       "      <td>1.698970</td>\n",
       "      <td>2.672098</td>\n",
       "    </tr>\n",
       "    <tr>\n",
       "      <th>2</th>\n",
       "      <td>A0012</td>\n",
       "      <td>R02</td>\n",
       "      <td>63.0</td>\n",
       "      <td>Male</td>\n",
       "      <td>on</td>\n",
       "      <td>34.0</td>\n",
       "      <td>2083.0</td>\n",
       "      <td>28550.0</td>\n",
       "      <td>881.0</td>\n",
       "      <td>745.0</td>\n",
       "      <td>...</td>\n",
       "      <td>0.0</td>\n",
       "      <td>0.003399</td>\n",
       "      <td>0.000283</td>\n",
       "      <td>0.000850</td>\n",
       "      <td>0.000000</td>\n",
       "      <td>0.0</td>\n",
       "      <td>0.000142</td>\n",
       "      <td>1.531479</td>\n",
       "      <td>3.318689</td>\n",
       "      <td>4.455606</td>\n",
       "    </tr>\n",
       "    <tr>\n",
       "      <th>3</th>\n",
       "      <td>A0013</td>\n",
       "      <td>R09</td>\n",
       "      <td>68.0</td>\n",
       "      <td>Male</td>\n",
       "      <td>on</td>\n",
       "      <td>20.0</td>\n",
       "      <td>144.0</td>\n",
       "      <td>39373.0</td>\n",
       "      <td>771.0</td>\n",
       "      <td>564.0</td>\n",
       "      <td>...</td>\n",
       "      <td>0.0</td>\n",
       "      <td>0.000278</td>\n",
       "      <td>0.003894</td>\n",
       "      <td>0.000278</td>\n",
       "      <td>0.000000</td>\n",
       "      <td>0.0</td>\n",
       "      <td>0.000000</td>\n",
       "      <td>1.301030</td>\n",
       "      <td>2.158362</td>\n",
       "      <td>4.595199</td>\n",
       "    </tr>\n",
       "    <tr>\n",
       "      <th>4</th>\n",
       "      <td>A0015</td>\n",
       "      <td>R10</td>\n",
       "      <td>54.0</td>\n",
       "      <td>Male</td>\n",
       "      <td>on</td>\n",
       "      <td>20.0</td>\n",
       "      <td>79074.0</td>\n",
       "      <td>79074.0</td>\n",
       "      <td>561.0</td>\n",
       "      <td>309.0</td>\n",
       "      <td>...</td>\n",
       "      <td>0.0</td>\n",
       "      <td>0.003000</td>\n",
       "      <td>0.000500</td>\n",
       "      <td>0.000400</td>\n",
       "      <td>0.000000</td>\n",
       "      <td>0.0</td>\n",
       "      <td>0.000000</td>\n",
       "      <td>1.301030</td>\n",
       "      <td>4.898034</td>\n",
       "      <td>4.898034</td>\n",
       "    </tr>\n",
       "  </tbody>\n",
       "</table>\n",
       "<p>5 rows × 2039 columns</p>\n",
       "</div>"
      ],
      "text/plain": [
       "  Patient Visit   Age Gender ART    VL      iVL      pVL     CD4   iCD4  \\\n",
       "0   A0001   R09  59.0   Male  on  20.0    987.0    987.0   797.0  400.0   \n",
       "1   A0010   R08  59.0   Male  on  20.0     50.0    470.0  1167.0  448.0   \n",
       "2   A0012   R02  63.0   Male  on  34.0   2083.0  28550.0   881.0  745.0   \n",
       "3   A0013   R09  68.0   Male  on  20.0    144.0  39373.0   771.0  564.0   \n",
       "4   A0015   R10  54.0   Male  on  20.0  79074.0  79074.0   561.0  309.0   \n",
       "\n",
       "     ...      101F      101P      101S      101T      101W  101Y      101V  \\\n",
       "0    ...       0.0  0.000453  0.000356  0.000000  0.000129   0.0  0.001975   \n",
       "1    ...       0.0  0.000000  0.004473  0.001278  0.000000   0.0  0.000000   \n",
       "2    ...       0.0  0.003399  0.000283  0.000850  0.000000   0.0  0.000142   \n",
       "3    ...       0.0  0.000278  0.003894  0.000278  0.000000   0.0  0.000000   \n",
       "4    ...       0.0  0.003000  0.000500  0.000400  0.000000   0.0  0.000000   \n",
       "\n",
       "   log10_VL  log10_iVL  log10_pVL  \n",
       "0  1.301030   2.994317   2.994317  \n",
       "1  1.301030   1.698970   2.672098  \n",
       "2  1.531479   3.318689   4.455606  \n",
       "3  1.301030   2.158362   4.595199  \n",
       "4  1.301030   4.898034   4.898034  \n",
       "\n",
       "[5 rows x 2039 columns]"
      ]
     },
     "execution_count": 7,
     "metadata": {},
     "output_type": "execute_result"
    }
   ],
   "source": [
    "DF = pd.read_csv('/Users/Greg/Documents/Drexel/ML/sklearn_preprocessed_df2.csv')\n",
    "DF.head()"
   ]
  },
  {
   "cell_type": "markdown",
   "metadata": {},
   "source": [
    "<h2>Clinical Data Representation</h2>\n",
    "<p>This dataframe only includes clinical data.</p>"
   ]
  },
  {
   "cell_type": "code",
   "execution_count": 8,
   "metadata": {
    "collapsed": false
   },
   "outputs": [
    {
     "data": {
      "text/html": [
       "<div>\n",
       "<table border=\"1\" class=\"dataframe\">\n",
       "  <thead>\n",
       "    <tr style=\"text-align: right;\">\n",
       "      <th></th>\n",
       "      <th>GDS</th>\n",
       "      <th>Age</th>\n",
       "      <th>Gender</th>\n",
       "      <th>CD4</th>\n",
       "      <th>log10_VL</th>\n",
       "      <th>CD8</th>\n",
       "      <th>nCD4</th>\n",
       "      <th>log10_pVL</th>\n",
       "      <th>nCD8</th>\n",
       "      <th>TMHDS</th>\n",
       "    </tr>\n",
       "  </thead>\n",
       "  <tbody>\n",
       "    <tr>\n",
       "      <th>0</th>\n",
       "      <td>0.583333</td>\n",
       "      <td>59.0</td>\n",
       "      <td>Male</td>\n",
       "      <td>797.0</td>\n",
       "      <td>1.301030</td>\n",
       "      <td>1131.0</td>\n",
       "      <td>400.0</td>\n",
       "      <td>2.994317</td>\n",
       "      <td>1060.0</td>\n",
       "      <td>4.0</td>\n",
       "    </tr>\n",
       "    <tr>\n",
       "      <th>1</th>\n",
       "      <td>1.416667</td>\n",
       "      <td>59.0</td>\n",
       "      <td>Male</td>\n",
       "      <td>1167.0</td>\n",
       "      <td>1.301030</td>\n",
       "      <td>663.0</td>\n",
       "      <td>448.0</td>\n",
       "      <td>2.672098</td>\n",
       "      <td>478.0</td>\n",
       "      <td>4.0</td>\n",
       "    </tr>\n",
       "    <tr>\n",
       "      <th>2</th>\n",
       "      <td>0.583333</td>\n",
       "      <td>63.0</td>\n",
       "      <td>Male</td>\n",
       "      <td>881.0</td>\n",
       "      <td>1.531479</td>\n",
       "      <td>1599.0</td>\n",
       "      <td>403.0</td>\n",
       "      <td>4.455606</td>\n",
       "      <td>888.0</td>\n",
       "      <td>7.0</td>\n",
       "    </tr>\n",
       "    <tr>\n",
       "      <th>3</th>\n",
       "      <td>0.000000</td>\n",
       "      <td>68.0</td>\n",
       "      <td>Male</td>\n",
       "      <td>771.0</td>\n",
       "      <td>1.301030</td>\n",
       "      <td>958.0</td>\n",
       "      <td>553.0</td>\n",
       "      <td>4.595199</td>\n",
       "      <td>958.0</td>\n",
       "      <td>6.5</td>\n",
       "    </tr>\n",
       "    <tr>\n",
       "      <th>4</th>\n",
       "      <td>1.333333</td>\n",
       "      <td>54.0</td>\n",
       "      <td>Male</td>\n",
       "      <td>561.0</td>\n",
       "      <td>1.301030</td>\n",
       "      <td>1607.0</td>\n",
       "      <td>224.0</td>\n",
       "      <td>4.898034</td>\n",
       "      <td>1288.0</td>\n",
       "      <td>8.0</td>\n",
       "    </tr>\n",
       "  </tbody>\n",
       "</table>\n",
       "</div>"
      ],
      "text/plain": [
       "        GDS   Age Gender     CD4  log10_VL     CD8   nCD4  log10_pVL    nCD8  \\\n",
       "0  0.583333  59.0   Male   797.0  1.301030  1131.0  400.0   2.994317  1060.0   \n",
       "1  1.416667  59.0   Male  1167.0  1.301030   663.0  448.0   2.672098   478.0   \n",
       "2  0.583333  63.0   Male   881.0  1.531479  1599.0  403.0   4.455606   888.0   \n",
       "3  0.000000  68.0   Male   771.0  1.301030   958.0  553.0   4.595199   958.0   \n",
       "4  1.333333  54.0   Male   561.0  1.301030  1607.0  224.0   4.898034  1288.0   \n",
       "\n",
       "   TMHDS  \n",
       "0    4.0  \n",
       "1    4.0  \n",
       "2    7.0  \n",
       "3    6.5  \n",
       "4    8.0  "
      ]
     },
     "execution_count": 8,
     "metadata": {},
     "output_type": "execute_result"
    }
   ],
   "source": [
    "clin_cols = ['GDS','Age','Gender','CD4','log10_VL','CD8','nCD4','log10_pVL','nCD8','TMHDS']\n",
    "clin_df = tnf.select_dataframe_columns(DF, clin_cols)\n",
    "clin_df.head()"
   ]
  },
  {
   "cell_type": "code",
   "execution_count": 9,
   "metadata": {
    "collapsed": false
   },
   "outputs": [
    {
     "ename": "NameError",
     "evalue": "name 'threshold' is not defined",
     "output_type": "error",
     "traceback": [
      "\u001b[0;31m---------------------------------------------------------------------------\u001b[0m",
      "\u001b[0;31mNameError\u001b[0m                                 Traceback (most recent call last)",
      "\u001b[0;32m<ipython-input-9-a012f43d094d>\u001b[0m in \u001b[0;36m<module>\u001b[0;34m()\u001b[0m\n\u001b[1;32m      8\u001b[0m \u001b[0my\u001b[0m \u001b[0;34m=\u001b[0m \u001b[0mtarget2\u001b[0m\u001b[0;34m\u001b[0m\u001b[0m\n\u001b[1;32m      9\u001b[0m \u001b[0;34m\u001b[0m\u001b[0m\n\u001b[0;32m---> 10\u001b[0;31m \u001b[0mnp\u001b[0m\u001b[0;34m.\u001b[0m\u001b[0mravel\u001b[0m\u001b[0;34m(\u001b[0m\u001b[0;34m[\u001b[0m\u001b[0mint\u001b[0m\u001b[0;34m(\u001b[0m\u001b[0mi\u001b[0m\u001b[0;34m>=\u001b[0m\u001b[0mthreshold\u001b[0m\u001b[0;34m)\u001b[0m \u001b[0;32mfor\u001b[0m \u001b[0mi\u001b[0m \u001b[0;32min\u001b[0m \u001b[0mtarget\u001b[0m\u001b[0;34m]\u001b[0m\u001b[0;34m)\u001b[0m\u001b[0;34m\u001b[0m\u001b[0m\n\u001b[0m",
      "\u001b[0;31mNameError\u001b[0m: name 'threshold' is not defined"
     ]
    }
   ],
   "source": [
    "Fs = ['Age','Gender','CD4']\n",
    "#def run_preparation_pipeline(clin_df,['Age'],['GDS'], 0.5):\n",
    "target, feature_df = tnf.target_feature_split(clin_df, 'GDS', Fs)\n",
    "feature_df = pd.get_dummies(feature_df, drop_first=True)\n",
    "scaled_feature_df = tnf.scale_dataframe(feature_df)\n",
    "target2 = tnf.threshold_target('GDS', 0.5)\n",
    "X_df = scaled_feature_df\n",
    "y = target2\n",
    "\n",
    "np.ravel([int(i>=threshold) for i in target])"
   ]
  },
  {
   "cell_type": "markdown",
   "metadata": {},
   "source": [
    "<h1>Exploratory Data Analysis</h1>\n",
    "<p>A quick exploration of the target variable, the Global Deficity Score (GDS), as well as some clinical and genetic features of interest.</p>"
   ]
  },
  {
   "cell_type": "code",
   "execution_count": null,
   "metadata": {
    "collapsed": false
   },
   "outputs": [],
   "source": [
    "savepath = '/Users/Greg/Documents/Drexel/ML/finalstoryfigs/GDS_histogram.png'\n",
    "tnf.plot_histogram(clin_df,'GDS','Global Deficit Score',savepath)"
   ]
  },
  {
   "cell_type": "code",
   "execution_count": null,
   "metadata": {
    "collapsed": true
   },
   "outputs": [],
   "source": [
    "def plot_clinical_boxplots(DF, impaired_df, nonimpaired_df, savepath):\n",
    "    \"\"\"creats boxplots of typical clinical parameters\"\"\"\n",
    "    fig,ax = plt.subplots(2,3,figsize=(12,7))\n",
    "    clin_cols = ['CD4','log10_VL','CD8','nCD4','log10_pVL','nCD8']\n",
    "    plot_titles = ['CD4 count','Viral Load','CD8 count',\n",
    "                   'Nadir CD4','Peak Viral Load','Nadir CD8']\n",
    "    x,y,t = 0,0,0\n",
    "    for feature in DF[clin_cols]:\n",
    "        impaired_list = list(impaired_df[feature])\n",
    "        nonimpaired_list = list(nonimpaired_df[feature])\n",
    "        ax[x,y].tick_params(axis='x', labelsize=14)\n",
    "        ax[x,y].tick_params(axis='y', labelsize=14, length=5)\n",
    "        ax[x,y].yaxis.tick_left()\n",
    "        ax[x,y].set_title(plot_titles[t], size=18)\n",
    "        ax[x,y].set_xticklabels('')\n",
    "        ax[x,y].boxplot([impaired_list, nonimpaired_list])\n",
    "        # formatting\n",
    "        ax[x,y].spines['left'].set_visible(True)\n",
    "        ax[x,y].spines['left'].set_color('black')\n",
    "        ax[x,y].spines['left'].set_linewidth(2)\n",
    "        ax[x,y].spines['bottom'].set_visible(True)\n",
    "        ax[x,y].spines['bottom'].set_color('black')\n",
    "        ax[x,y].spines['bottom'].set_linewidth(2)\n",
    "        ax[x,y].set_axis_bgcolor('white')\n",
    "        t += 1\n",
    "        if x<=1:\n",
    "            ax[x,y].set_xticklabels(['GDS $\\geq$ 0.5', 'GDS $<$ 0.5'], size=16)\n",
    "        else:\n",
    "            ax[x,y].set_xticklabels(['', '']) \n",
    "        #update x and y coordinates\n",
    "        if y!=2:\n",
    "            y+=1\n",
    "        else:\n",
    "            y=0\n",
    "            x+=1\n",
    "    ax[0,0].set_ylabel('cells/uL')\n",
    "    ax[0,1].set_ylabel('Log10(copies/mL)')\n",
    "    ax[0,2].set_ylabel('cells/uL')\n",
    "    ax[1,0].set_ylabel('cells/uL')\n",
    "    ax[1,1].set_ylabel('Log10(copies/mL)')\n",
    "    ax[1,2].set_ylabel('cells/uL')\n",
    "    #plt.show()\n",
    "    fig.tight_layout()\n",
    "    fig.savefig(savepath, dpi=300)"
   ]
  },
  {
   "cell_type": "code",
   "execution_count": null,
   "metadata": {
    "collapsed": false
   },
   "outputs": [],
   "source": [
    "savepath = '/Users/Greg/Documents/Drexel/ML/finalstoryfigs/clinical_boxplots.png'\n",
    "impaired_df, nonimpaired_df = tnf.split_df_by_impairment(clin_df, 0.5)\n",
    "plot_clinical_boxplots(clin_df, impaired_df, nonimpaired_df, savepath)"
   ]
  },
  {
   "cell_type": "code",
   "execution_count": null,
   "metadata": {
    "collapsed": true
   },
   "outputs": [],
   "source": [
    "def get_covariate_matrix(DF, features, target, threshold, savepath):\n",
    "    label_dict = {'CD4':'CD4 count', 'Age':'Age','log10_VL':'log10 VL',\n",
    "    'Gender_Male':'Gender','nCD8':'nadir CD8','CD8':'CD8 count',\n",
    "    'nCD4':'nadir CD4', 'log10_pVL':'log10 peak VL'}\n",
    "    X, y = tnf.run_preparation_pipeline(DF, features, target, threshold)\n",
    "    X.columns = [label_dict[c] for c in X.columns if c in list(label_dict.keys())]\n",
    "    plt.figure(figsize=(6, 6))\n",
    "    sns.set(font_scale=1.5)\n",
    "    ax = sns.heatmap(X.corr(), square=True)\n",
    "    ax.yaxis.set_label_position('right')\n",
    "    ax.set_ylabel('Pearson Correlation Coefficient',fontsize=14, weight='bold', labelpad=80)\n",
    "    #ax.ylabel('Pearson Correlation Coefficient')\n",
    "    plt.tight_layout()\n",
    "    plt.savefig(savepath, dpi=300)\n",
    "    plt.show()"
   ]
  },
  {
   "cell_type": "code",
   "execution_count": null,
   "metadata": {
    "collapsed": false
   },
   "outputs": [],
   "source": [
    "target = 'GDS'\n",
    "threshold = 0.5\n",
    "features = ['Age','Gender','log10_VL','log10_pVL','CD4','nCD4','CD8','nCD8']\n",
    "savepath = '/Users/Greg/Documents/Drexel/ML/finalstoryfigs/clinical_covar_matrix.png'\n",
    "get_covariate_matrix(clin_df, features, target, threshold, savepath)"
   ]
  },
  {
   "cell_type": "markdown",
   "metadata": {},
   "source": [
    "<h1>Clinical Models</h1>\n",
    "<p>A number of different clinical models will be independently assessed and compared on the basis of accuracy, precision, recall, and other metrics.</p>"
   ]
  },
  {
   "cell_type": "code",
   "execution_count": null,
   "metadata": {
    "collapsed": true
   },
   "outputs": [],
   "source": [
    "# Compare logistic regression and random forest\n",
    "# Use F1 and AUC \n",
    "# try different clinical models (known vs hypothesized metrics vs Hopkins Dementia Score) - check\n",
    "# represent genetic data in different ways - check\n",
    "# Permutation test by scrambling y relative to X - check\n",
    "# look at feature importance in the best clinical models - check"
   ]
  },
  {
   "cell_type": "code",
   "execution_count": null,
   "metadata": {
    "collapsed": false
   },
   "outputs": [],
   "source": [
    "#target = 'GDS'\n",
    "#threshold = 0.5\n",
    "#features = ['Age','Gender','log10_VL','log10_pVL','CD4','nCD4','CD8','nCD8','TMHDS']\n",
    "#X_df, y = tnf.run_preparation_pipeline(clin_df, features, target, threshold)\n",
    "#print y.shape\n",
    "#print X_df.shape\n",
    "#X_df.head()"
   ]
  },
  {
   "cell_type": "code",
   "execution_count": null,
   "metadata": {
    "collapsed": false
   },
   "outputs": [],
   "source": [
    "# SURVEY MANY FEATURE COMBINATIONS\n",
    "f1 = ['Age','Gender_Male','log10_VL','log10_pVL','CD4','nCD4','CD8','nCD8','TMHDS']\n",
    "f2 = ['Age','Gender_Male','log10_VL','log10_pVL','CD4','nCD4','CD8','nCD8']\n",
    "f3 = ['Age','Gender_Male']\n",
    "f4 = ['log10_VL','log10_pVL','CD4','nCD4','CD8','nCD8']\n",
    "f5 = ['log10_VL','log10_pVL','CD4','nCD4']\n",
    "f6 = ['log10_pVL','nCD4']\n",
    "f7 = ['log10_VL','CD4']\n",
    "f8 = ['log10_VL']\n",
    "f9 = ['CD4']\n",
    "f10 = ['TMHDS']\n",
    "feats = [f1, f2, f3, f4, f5, f6, f7, f8, f9, f10]"
   ]
  },
  {
   "cell_type": "code",
   "execution_count": 1,
   "metadata": {
    "collapsed": false
   },
   "outputs": [
    {
     "ename": "NameError",
     "evalue": "name 'clin_df' is not defined",
     "output_type": "error",
     "traceback": [
      "\u001b[0;31m---------------------------------------------------------------------------\u001b[0m",
      "\u001b[0;31mNameError\u001b[0m                                 Traceback (most recent call last)",
      "\u001b[0;32m<ipython-input-1-46538a1b7593>\u001b[0m in \u001b[0;36m<module>\u001b[0;34m()\u001b[0m\n\u001b[0;32m----> 1\u001b[0;31m \u001b[0mclin_df\u001b[0m\u001b[0;34m\u001b[0m\u001b[0m\n\u001b[0m",
      "\u001b[0;31mNameError\u001b[0m: name 'clin_df' is not defined"
     ]
    }
   ],
   "source": [
    "clin_df"
   ]
  },
  {
   "cell_type": "markdown",
   "metadata": {},
   "source": [
    "<h2>Script to compare model performance against benchmark</h2>"
   ]
  },
  {
   "cell_type": "code",
   "execution_count": 12,
   "metadata": {
    "collapsed": false
   },
   "outputs": [
    {
     "name": "stderr",
     "output_type": "stream",
     "text": [
      "//anaconda/lib/python2.7/site-packages/sklearn/metrics/classification.py:1074: UndefinedMetricWarning: Precision is ill-defined and being set to 0.0 due to no predicted samples.\n",
      "  'precision', 'predicted', average, warn_for)\n",
      "//anaconda/lib/python2.7/site-packages/sklearn/metrics/classification.py:1074: UndefinedMetricWarning: F-score is ill-defined and being set to 0.0 due to no predicted samples.\n",
      "  'precision', 'predicted', average, warn_for)\n"
     ]
    }
   ],
   "source": [
    "model_logit = LogisticRegression(penalty='l1',solver='liblinear',fit_intercept=True,\n",
    "                                 class_weight='balanced',C=1)\n",
    "\n",
    "# information for each model\n",
    "AUC1, AUC2 = [], []\n",
    "PREC1, PREC2 = [], []\n",
    "REC1, REC2 = [], []\n",
    "F1, F2 = [], []\n",
    "TPR1, TPR2 = [], []\n",
    "FPR1, FPR2 = [], []\n",
    "COEF1, COEF2 = [], []\n",
    "\n",
    "for f in feats:\n",
    "    # information for each fold\n",
    "    auc1, auc2 = [], []\n",
    "    prec1, prec2 = [], []\n",
    "    rec1, rec2 = [], []\n",
    "    f1, f2 = [], []\n",
    "    tpr1, tpr2 = [], []\n",
    "    fpr1, fpr2 = [], []\n",
    "    coef1, coef2 = [], []\n",
    "\n",
    "    for _ in range(100):\n",
    "        d = tnf.metrics_wrapper(clin_df, model_logit, f, 5)\n",
    "        d_random = tnf.metrics_wrapper_random(clin_df, model_logit, f, 5)\n",
    "        \n",
    "        # append all cross validation metrics\n",
    "        # true model\n",
    "        auc1.append(np.mean(d['AUC']))\n",
    "        prec1.append(np.mean(d['Precision']))\n",
    "        rec1.append(np.mean(d['Recall']))\n",
    "        f1.append(np.mean(d['F1']))\n",
    "        tpr1.append(d['meanTPR'])\n",
    "        fpr1.append(d['meanFPR'])\n",
    "        coef1.append(d['Coef'])\n",
    "        \n",
    "        #randomize model\n",
    "        auc2.append(np.mean(d_random['AUC']))\n",
    "        prec2.append(np.mean(d_random['Precision']))\n",
    "        rec2.append(np.mean(d_random['Recall']))\n",
    "        f2.append(np.mean(d_random['F1']))\n",
    "        tpr2.append(d_random['meanTPR'])\n",
    "        fpr2.append(d_random['meanFPR'])\n",
    "        coef2.append(d['Coef'])\n",
    "    \n",
    "    #append results for each model\n",
    "    AUC1.append(auc1)\n",
    "    AUC2.append(auc2)\n",
    "    PREC1.append(prec1)\n",
    "    PREC2.append(prec2)\n",
    "    REC1.append(rec1)\n",
    "    REC2.append(rec2)\n",
    "    F1.append(f1)\n",
    "    F2.append(f2)\n",
    "    TPR1.append(tpr1) \n",
    "    TPR2.append(tpr2)\n",
    "    FPR1.append(fpr1) \n",
    "    FPR2.append(fpr2)\n",
    "    COEF1.append(coef1) \n",
    "    COEF2.append(coef2)"
   ]
  },
  {
   "cell_type": "markdown",
   "metadata": {},
   "source": [
    "<h1>ROC Curve Plots</h1>"
   ]
  },
  {
   "cell_type": "code",
   "execution_count": 20,
   "metadata": {
    "collapsed": false
   },
   "outputs": [
    {
     "data": {
      "image/png": "[encoded data removed]",
      "text/plain": [
       "<matplotlib.figure.Figure at 0x118673850>"
      ]
     },
     "metadata": {},
     "output_type": "display_data"
    }
   ],
   "source": [
    "# iterate through the combinations of features\n",
    "\n",
    "fig,ax=plt.subplots(figsize=(6,4))\n",
    "\n",
    "# formatting\n",
    "ax.tick_params(axis='x', labelsize=14, length=5)\n",
    "ax.tick_params(axis='y', labelsize=14, length=5)\n",
    "ax.yaxis.tick_left()\n",
    "ax.xaxis.tick_bottom()\n",
    "ax.set_xlabel('1 - Specificity', size=18, labelpad=15, weight='bold')\n",
    "ax.set_ylabel('Sensitivity', size=18, labelpad=15, weight='bold')\n",
    "ax.set_axis_bgcolor('white')\n",
    "ax.spines['left'].set_visible(True)\n",
    "ax.spines['left'].set_color('black')\n",
    "ax.spines['left'].set_linewidth(2)\n",
    "ax.spines['bottom'].set_visible(True)\n",
    "ax.spines['bottom'].set_color('black')\n",
    "ax.spines['bottom'].set_linewidth(2)\n",
    "ax.ticklabel_format(size=20)\n",
    "ax.plot([0, 1], [0, 1], ls='--', color='black', label='Chance')\n",
    "clrs = ['red','blue','green','purple','orange','deeppink','aqua','gold','lime','sienna']\n",
    "\n",
    "for j in range(len(feats)):\n",
    "    # returns a list of arrays\n",
    "    f = FPR1[j]\n",
    "    t = TPR1[j]\n",
    "    a = str(round(np.mean(AUC1[j]),2))\n",
    "    \n",
    "    # initialize a mean TRP and FPR\n",
    "    X = np.zeros(len(f[0]))\n",
    "    Y = np.zeros(len(t[0]))\n",
    "    # iterate through each randomization\n",
    "    for i in range(len(t)):\n",
    "        X = X + f[i]\n",
    "        Y = Y + t[i]\n",
    "    X = X/len(t)\n",
    "    Y = Y/len(t)\n",
    "    ax.plot(X, Y, color=clrs[j], ls='-', label='F'+str(j+1)+' = '+a, linewidth=2, alpha=0.7)\n",
    "\n",
    "fig.tight_layout()\n",
    "plt.legend(bbox_to_anchor=[1.5, 1.1],ncol=1)\n",
    "\n",
    "savepath = '/Users/Greg/Documents/Drexel/ML/finalstoryfigs/clin_roc_plots.png'\n",
    "fig.savefig(savepath,dpi=300, bbox_inches='tight')"
   ]
  },
  {
   "cell_type": "code",
   "execution_count": null,
   "metadata": {
    "collapsed": true
   },
   "outputs": [],
   "source": []
  },
  {
   "cell_type": "markdown",
   "metadata": {},
   "source": [
    "# Compare to Random"
   ]
  },
  {
   "cell_type": "code",
   "execution_count": 33,
   "metadata": {
    "collapsed": false
   },
   "outputs": [
    {
     "name": "stdout",
     "output_type": "stream",
     "text": [
      "100 100\n",
      "3.40357442844e-28\n",
      "7.109479751e-40\n",
      "100 100\n",
      "1.20493214601e-13\n",
      "6.89570048925e-16\n",
      "100 100\n",
      "0.265147530311\n",
      "0.326911964387\n",
      "100 100\n",
      "9.17732774917e-23\n",
      "6.30383099787e-27\n",
      "100 100\n",
      "6.99217824028e-25\n",
      "5.77899419375e-31\n",
      "100 100\n",
      "1.2957185159e-07\n",
      "2.37269795086e-08\n",
      "100 100\n",
      "3.2640872787e-29\n",
      "3.59929603234e-42\n",
      "100 100\n",
      "0.00135949794184\n",
      "0.000130895133744\n",
      "100 100\n",
      "4.55994850867e-33\n",
      "6.48208421526e-52\n",
      "100 100\n",
      "6.15503815552e-34\n",
      "1.95469872219e-50\n"
     ]
    }
   ],
   "source": [
    "from scipy import stats\n",
    "# Some statistics\n",
    "for i in range(len(AUC1)):\n",
    "    a = AUC1[i]\n",
    "    b = AUC2[i]\n",
    "    print len(a), len(b)\n",
    "    mw_stat, mw_p = stats.mannwhitneyu(a, b)\n",
    "    t_stat, t_p = stats.ttest_ind(a,b)\n",
    "    print mw_p\n",
    "    print t_p\n",
    "    \n"
   ]
  },
  {
   "cell_type": "code",
   "execution_count": 15,
   "metadata": {
    "collapsed": false
   },
   "outputs": [],
   "source": [
    "aMean, bMean = [], []\n",
    "aSTD, bSTD = [], []\n",
    "\n",
    "for i in range(len(AUC1)):\n",
    "    aMean.append(np.mean(AUC1[i]))\n",
    "    aSTD.append(np.std(AUC1[i]))\n",
    "    bMean.append(np.mean(AUC2[i]))\n",
    "    bSTD.append(np.std(AUC2[i]))"
   ]
  },
  {
   "cell_type": "code",
   "execution_count": 116,
   "metadata": {
    "collapsed": false
   },
   "outputs": [
    {
     "data": {
      "image/png": "[encoded data removed]",
      "text/plain": [
       "<matplotlib.figure.Figure at 0x11772b810>"
      ]
     },
     "metadata": {},
     "output_type": "display_data"
    }
   ],
   "source": [
    "N = len(aMean)\n",
    "ind = np.arange(N)  # the x locations for the groups\n",
    "width = 0.35       # the width of the bars\n",
    "\n",
    "fig, ax = plt.subplots(figsize=(7,4))\n",
    "rects1 = ax.bar(ind, aMean, width, color='r', yerr=aSTD)\n",
    "rects2 = ax.bar(ind + width, bMean, width, color='y', yerr=bSTD)\n",
    "\n",
    "# add some text for labels, title and axes ticks\n",
    "ax.set_ylabel('Mean CV AUC', weight='bold', fontsize=18)\n",
    "ax.set_xlabel('Models', labelpad=15, fontsize=18, weight='bold')\n",
    "ax.set_xticks(ind + width)\n",
    "labels = ['F1', 'F2', 'F3', 'F4', 'F5', 'F6', 'F7', 'F8', 'F9', 'F10']\n",
    "ax.set_xticklabels(labels)\n",
    "ax.set_ylim([0.4,0.7])\n",
    "\n",
    "ax.legend((rects1[0], rects2[0]), ('True Model', 'Chance Model'),\n",
    "          loc='upper center', bbox_to_anchor=(0.5, 1.25),ncol=2, fancybox=True)\n",
    "\n",
    "# formatting colors and axes\n",
    "ax.set_axis_bgcolor('white')\n",
    "ax.spines['left'].set_visible(True)\n",
    "ax.spines['left'].set_color('black')\n",
    "ax.spines['left'].set_linewidth(2)\n",
    "ax.spines['bottom'].set_visible(True)\n",
    "ax.spines['bottom'].set_color('black')\n",
    "ax.spines['bottom'].set_linewidth(2)\n",
    "\n",
    "ax.text(0.2,0.65,'*',fontsize=35)\n",
    "ax.text(1.2,0.59,'*',fontsize=35)\n",
    "ax.text(3.2,0.62,'*',fontsize=35)\n",
    "ax.text(4.2,0.63,'*',fontsize=35)\n",
    "ax.text(5.2,0.58,'*',fontsize=35)\n",
    "ax.text(6.2,0.635,'*',fontsize=35)\n",
    "ax.text(8.2,0.64,'*',fontsize=35)\n",
    "ax.text(9.2,0.64,'*',fontsize=35)\n",
    "\n",
    "\n",
    "fig.tight_layout()\n",
    "savepath = '/Users/Greg/Documents/Drexel/ML/finalstoryfigs/clin_auc_barplots.png'\n",
    "fig.savefig(savepath,dpi=300,bbox_inches='tight')"
   ]
  },
  {
   "cell_type": "markdown",
   "metadata": {},
   "source": [
    "# Plot Coefficients Grid"
   ]
  },
  {
   "cell_type": "code",
   "execution_count": 17,
   "metadata": {
    "collapsed": false
   },
   "outputs": [
    {
     "data": {
      "text/html": [
       "<div>\n",
       "<table border=\"1\" class=\"dataframe\">\n",
       "  <thead>\n",
       "    <tr style=\"text-align: right;\">\n",
       "      <th></th>\n",
       "      <th>0</th>\n",
       "      <th>1</th>\n",
       "      <th>2</th>\n",
       "      <th>3</th>\n",
       "      <th>4</th>\n",
       "      <th>5</th>\n",
       "      <th>6</th>\n",
       "      <th>7</th>\n",
       "      <th>8</th>\n",
       "      <th>9</th>\n",
       "    </tr>\n",
       "  </thead>\n",
       "  <tbody>\n",
       "    <tr>\n",
       "      <th>TMHDS</th>\n",
       "      <td>-0.571915</td>\n",
       "      <td>NaN</td>\n",
       "      <td>NaN</td>\n",
       "      <td>NaN</td>\n",
       "      <td>NaN</td>\n",
       "      <td>NaN</td>\n",
       "      <td>NaN</td>\n",
       "      <td>NaN</td>\n",
       "      <td>NaN</td>\n",
       "      <td>-0.499653</td>\n",
       "    </tr>\n",
       "    <tr>\n",
       "      <th>Age</th>\n",
       "      <td>-0.285380</td>\n",
       "      <td>-0.157493</td>\n",
       "      <td>-0.176546</td>\n",
       "      <td>NaN</td>\n",
       "      <td>NaN</td>\n",
       "      <td>NaN</td>\n",
       "      <td>NaN</td>\n",
       "      <td>NaN</td>\n",
       "      <td>NaN</td>\n",
       "      <td>NaN</td>\n",
       "    </tr>\n",
       "    <tr>\n",
       "      <th>Gender_Male</th>\n",
       "      <td>0.011999</td>\n",
       "      <td>0.066611</td>\n",
       "      <td>-0.027101</td>\n",
       "      <td>NaN</td>\n",
       "      <td>NaN</td>\n",
       "      <td>NaN</td>\n",
       "      <td>NaN</td>\n",
       "      <td>NaN</td>\n",
       "      <td>NaN</td>\n",
       "      <td>NaN</td>\n",
       "    </tr>\n",
       "    <tr>\n",
       "      <th>nCD4</th>\n",
       "      <td>-0.269166</td>\n",
       "      <td>-0.276809</td>\n",
       "      <td>NaN</td>\n",
       "      <td>-0.290824</td>\n",
       "      <td>-0.275448</td>\n",
       "      <td>0.012415</td>\n",
       "      <td>NaN</td>\n",
       "      <td>NaN</td>\n",
       "      <td>NaN</td>\n",
       "      <td>NaN</td>\n",
       "    </tr>\n",
       "    <tr>\n",
       "      <th>CD4</th>\n",
       "      <td>0.702163</td>\n",
       "      <td>0.746187</td>\n",
       "      <td>NaN</td>\n",
       "      <td>0.741497</td>\n",
       "      <td>0.707960</td>\n",
       "      <td>NaN</td>\n",
       "      <td>0.534675</td>\n",
       "      <td>NaN</td>\n",
       "      <td>0.532213</td>\n",
       "      <td>NaN</td>\n",
       "    </tr>\n",
       "    <tr>\n",
       "      <th>log10_pVL</th>\n",
       "      <td>-0.170354</td>\n",
       "      <td>-0.230028</td>\n",
       "      <td>NaN</td>\n",
       "      <td>-0.241078</td>\n",
       "      <td>-0.260104</td>\n",
       "      <td>-0.259619</td>\n",
       "      <td>NaN</td>\n",
       "      <td>NaN</td>\n",
       "      <td>NaN</td>\n",
       "      <td>NaN</td>\n",
       "    </tr>\n",
       "    <tr>\n",
       "      <th>log10_VL</th>\n",
       "      <td>0.105204</td>\n",
       "      <td>0.079066</td>\n",
       "      <td>NaN</td>\n",
       "      <td>0.083389</td>\n",
       "      <td>0.069761</td>\n",
       "      <td>NaN</td>\n",
       "      <td>0.003128</td>\n",
       "      <td>-0.149899</td>\n",
       "      <td>NaN</td>\n",
       "      <td>NaN</td>\n",
       "    </tr>\n",
       "    <tr>\n",
       "      <th>nCD8</th>\n",
       "      <td>0.082743</td>\n",
       "      <td>0.084105</td>\n",
       "      <td>NaN</td>\n",
       "      <td>0.079731</td>\n",
       "      <td>NaN</td>\n",
       "      <td>NaN</td>\n",
       "      <td>NaN</td>\n",
       "      <td>NaN</td>\n",
       "      <td>NaN</td>\n",
       "      <td>NaN</td>\n",
       "    </tr>\n",
       "    <tr>\n",
       "      <th>CD8</th>\n",
       "      <td>-0.074165</td>\n",
       "      <td>-0.066934</td>\n",
       "      <td>NaN</td>\n",
       "      <td>-0.066631</td>\n",
       "      <td>NaN</td>\n",
       "      <td>NaN</td>\n",
       "      <td>NaN</td>\n",
       "      <td>NaN</td>\n",
       "      <td>NaN</td>\n",
       "      <td>NaN</td>\n",
       "    </tr>\n",
       "  </tbody>\n",
       "</table>\n",
       "</div>"
      ],
      "text/plain": [
       "                    0         1         2         3         4         5  \\\n",
       "TMHDS       -0.571915       NaN       NaN       NaN       NaN       NaN   \n",
       "Age         -0.285380 -0.157493 -0.176546       NaN       NaN       NaN   \n",
       "Gender_Male  0.011999  0.066611 -0.027101       NaN       NaN       NaN   \n",
       "nCD4        -0.269166 -0.276809       NaN -0.290824 -0.275448  0.012415   \n",
       "CD4          0.702163  0.746187       NaN  0.741497  0.707960       NaN   \n",
       "log10_pVL   -0.170354 -0.230028       NaN -0.241078 -0.260104 -0.259619   \n",
       "log10_VL     0.105204  0.079066       NaN  0.083389  0.069761       NaN   \n",
       "nCD8         0.082743  0.084105       NaN  0.079731       NaN       NaN   \n",
       "CD8         -0.074165 -0.066934       NaN -0.066631       NaN       NaN   \n",
       "\n",
       "                    6         7         8         9  \n",
       "TMHDS             NaN       NaN       NaN -0.499653  \n",
       "Age               NaN       NaN       NaN       NaN  \n",
       "Gender_Male       NaN       NaN       NaN       NaN  \n",
       "nCD4              NaN       NaN       NaN       NaN  \n",
       "CD4          0.534675       NaN  0.532213       NaN  \n",
       "log10_pVL         NaN       NaN       NaN       NaN  \n",
       "log10_VL     0.003128 -0.149899       NaN       NaN  \n",
       "nCD8              NaN       NaN       NaN       NaN  \n",
       "CD8               NaN       NaN       NaN       NaN  "
      ]
     },
     "execution_count": 17,
     "metadata": {},
     "output_type": "execute_result"
    }
   ],
   "source": [
    "coeff_dict_list = []\n",
    "\n",
    "i=0\n",
    "for feature_group in COEF1:\n",
    "    #print len(feature_group)\n",
    "    cv_mean_list = []\n",
    "    for cv_group in feature_group:\n",
    "        cv_mean = np.mean(cv_group,0)\n",
    "        #print len(cv_group), cv_mean\n",
    "        cv_mean_list.append(cv_mean)\n",
    "    #print len(cv_mean_list), len(cv_mean_list[0][0])\n",
    "    F = feats[i]\n",
    "    S = np.mean(cv_mean_list,0)[0]\n",
    "    Z = zip(F,S)\n",
    "    coeff_dict_list.append(dict(Z))\n",
    "    i+=1\n",
    "\n",
    "X = []\n",
    "VARS = ['TMHDS','Age','Gender_Male','nCD4','CD4','log10_pVL','log10_VL','nCD8','CD8']\n",
    "for A in coeff_dict_list:\n",
    "    x = []\n",
    "    for V in VARS:\n",
    "        if V in A.keys():\n",
    "            x.append(A[V])\n",
    "        else:\n",
    "            x.append(np.nan)\n",
    "    X.append(x)\n",
    "\n",
    "coeff_df = pd.DataFrame(X)\n",
    "coeff_df.columns = VARS\n",
    "coeff_df.T"
   ]
  },
  {
   "cell_type": "code",
   "execution_count": 115,
   "metadata": {
    "collapsed": false
   },
   "outputs": [
    {
     "data": {
      "image/png": "[encoded data removed]",
      "text/plain": [
       "<matplotlib.figure.Figure at 0x118463110>"
      ]
     },
     "metadata": {},
     "output_type": "display_data"
    }
   ],
   "source": [
    "fig,ax = plt.subplots(figsize=(7,5))\n",
    "ax = sns.heatmap(coeff_df.T, linewidths=.5)\n",
    "VARS = ['CD8','nadir CD8','log10 VL','log10 peak VL','CD4','nadir CD4','Gender','Age','HDS']\n",
    "ax.set_yticklabels(VARS)\n",
    "ax.set_xticklabels(['F1', 'F2', 'F3', 'F4', 'F5', 'F6', 'F7', 'F8', 'F9', 'F10'])\n",
    "ax.set_xlabel('Feature Groups', labelpad=15, fontsize=18, weight='bold')\n",
    "ax.yaxis.set_label_position('right')\n",
    "ax.set_ylabel('Coefficient', fontsize=18, weight='bold', labelpad=95)\n",
    "\n",
    "ax.text(11.5,0.2,'Non-Impaired',fontsize=14,fontstyle='italic')\n",
    "ax.text(11.5,8.6,'Impaired',fontsize=14,fontstyle='italic')\n",
    "fig.tight_layout()\n",
    "plt.show()\n",
    "\n",
    "savepath = '/Users/Greg/Documents/Drexel/ML/finalstoryfigs/clin_roc_coeff.png'\n",
    "fig.savefig(savepath,dpi=300, bbox_inches='tight')"
   ]
  }
 ],
 "metadata": {
  "kernelspec": {
   "display_name": "Python 2",
   "language": "python",
   "name": "python2"
  },
  "language_info": {
   "codemirror_mode": {
    "name": "ipython",
    "version": 2
   },
   "file_extension": ".py",
   "mimetype": "text/x-python",
   "name": "python",
   "nbconvert_exporter": "python",
   "pygments_lexer": "ipython2",
   "version": "2.7.12"
  }
 },
 "nbformat": 4,
 "nbformat_minor": 0
}
