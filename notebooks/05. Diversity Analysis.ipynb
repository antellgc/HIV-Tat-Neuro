{
 "cells": [
  {
   "cell_type": "markdown",
   "metadata": {},
   "source": [
    "# 05. Diversity Analysis"
   ]
  },
  {
   "cell_type": "markdown",
   "metadata": {},
   "source": [
    "This notebook combines the NGS data of Tat alognside the corresponding clinical data for each patient.\n",
    "\n",
    "<p><b>Input:</b></p>\n",
    "<ul>\n",
    "<li>Merged clinical and sequencing data\n",
    "</ul>\n",
    "<p><b>Output:</b></p>\n",
    "<ul>\n",
    "<li>Figures\n",
    "</ul>"
   ]
  },
  {
   "cell_type": "markdown",
   "metadata": {},
   "source": [
    "# Import Requirements"
   ]
  },
  {
   "cell_type": "code",
   "execution_count": 2,
   "metadata": {
    "collapsed": true
   },
   "outputs": [],
   "source": [
    "from __future__ import division\n",
    "import pandas as pd\n",
    "import numpy as np\n",
    "from scipy import stats\n",
    "import itertools\n",
    "from collections import Counter\n",
    "import operator\n",
    "import random\n",
    "import matplotlib as mpl\n",
    "import matplotlib.pyplot as plt\n",
    "%matplotlib inline\n",
    "\n",
    "# set fonts\n",
    "mpl.rc('font',family='Arial')"
   ]
  },
  {
   "cell_type": "markdown",
   "metadata": {},
   "source": [
    "# Define functions"
   ]
  },
  {
   "cell_type": "code",
   "execution_count": 4,
   "metadata": {
    "collapsed": true
   },
   "outputs": [],
   "source": [
    "def import_data(filepath):\n",
    "    DF = pd.read_csv(filepath)\n",
    "    C = ['Patient','Visit','DateOfVisit','Age','Gender','ART','VL','iVL','pVL',\n",
    "     'CD4','iCD4','nCD4','CD8','iCD8','nCD8','TMHDS','VisitDate','GDS','Prot', \n",
    "     'AAPos','Coverage','A','R','N','D','C','Q','E','G','H','I','L','K','M',\n",
    "     'F','P','S','T','W','Y','V']\n",
    "    DF = DF[C]\n",
    "    return DF\n",
    "\n",
    "# calculate diversity using a dictionary object as input\n",
    "def diversity_column(counts, hill):\n",
    "    vals = np.array(counts.values(), dtype=np.float64)\n",
    "    vals /= vals.sum()\n",
    "    if hill == 1:\n",
    "        return np.exp(-np.sum(vals*np.log(vals)))\n",
    "    else:\n",
    "        return (vals**hill).sum()**(1/(1-hill))\n",
    "\n",
    "# drop empty keys\n",
    "def modify_dict(d):\n",
    "    for k,v in d.items():\n",
    "        if v == 0.0:\n",
    "           del d[k]\n",
    "    return d\n",
    "\n",
    "def getIntrapatientDiversity(counts_df, hill_number):\n",
    "    cols = ['A','R','N','D','C','Q','E','G','H','I',\n",
    "            'L','K','M','F','P','S','T','W','Y','V']\n",
    "    diversity_dict = {'Position':[], 'Diversity':[]}\n",
    "    \n",
    "    for i, g in counts_df.groupby('AAPos'):\n",
    "        for j, row in g.iterrows():\n",
    "            d = row[cols].to_dict()\n",
    "            d2 = modify_dict(d)\n",
    "            div = diversity_column(d2, hill_number)\n",
    "            diversity_dict['Position'].append(i)\n",
    "            diversity_dict['Diversity'].append(div)\n",
    "            \n",
    "    divDF = pd.DataFrame(diversity_dict)\n",
    "    div_dict2 = {'Position':[], 'Mean Diversity':[], 'Std Diversity':[],\n",
    "             'Minimum':[], 'Maximum':[], 'Distribution':[]}\n",
    "\n",
    "    # information to return\n",
    "    for i, g in divDF.groupby('Position'):\n",
    "        div_dict2['Position'].append(int(i))\n",
    "        div_dict2['Distribution'].append(list(g['Diversity']))\n",
    "        div_dict2['Mean Diversity'].append(np.mean(g['Diversity']))\n",
    "        div_dict2['Std Diversity'].append(np.std(g['Diversity']))\n",
    "        div_dict2['Minimum'].append(min(g['Diversity']))\n",
    "        div_dict2['Maximum'].append(max(g['Diversity']))\n",
    "    divDF2 = pd.DataFrame(div_dict2)\n",
    "    return divDF2"
   ]
  },
  {
   "cell_type": "markdown",
   "metadata": {},
   "source": [
    "# Analysis"
   ]
  },
  {
   "cell_type": "code",
   "execution_count": null,
   "metadata": {
    "collapsed": true
   },
   "outputs": [],
   "source": [
    "DF = import_data('/Users/greg/Desktop/FinalTatNeuro/MergedData/NGS_GDS_counts.csv')\n",
    "DF1 = DF[DF['GDS']>=0.5]\n",
    "DF2 = DF[DF['GDS']<0.5]\n",
    "print DF.shape\n",
    "print DF1.shape\n",
    "print DF2.shape"
   ]
  }
 ],
 "metadata": {
  "kernelspec": {
   "display_name": "Python 3",
   "language": "python",
   "name": "python3"
  },
  "language_info": {
   "codemirror_mode": {
    "name": "ipython",
    "version": 3
   },
   "file_extension": ".py",
   "mimetype": "text/x-python",
   "name": "python",
   "nbconvert_exporter": "python",
   "pygments_lexer": "ipython3",
   "version": "3.6.3"
  }
 },
 "nbformat": 4,
 "nbformat_minor": 2
}
