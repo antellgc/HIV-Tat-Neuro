{
 "cells": [
  {
   "cell_type": "markdown",
   "metadata": {},
   "source": [
    "# 01. Amino Acid Count Preprocessing"
   ]
  },
  {
   "cell_type": "markdown",
   "metadata": {},
   "source": [
    "<p>This notebook processes AA count data saved as .tsv files (e.g. Patient-Visit-PBMC.AACounts.tsv) and converts them into tables of raw counts or frequencies (as a percentage) for the genome region of interest, in this case, Tat exon 1 and Tat exon 2 are the exclusive focus.</p>\n",
    "<p><b>Input:</b></p>\n",
    "<ul>\n",
    "<li>Full genome amino acid count TSV file for each sample\n",
    "</ul>\n",
    "<p><b>Output:</b></p>\n",
    "<ul>\n",
    "<li>Tat exon 1 amino acid count table CSV file for each sample\n",
    "<li>Tat exon 1 amino acid frequency table CSV file for each sample\n",
    "<li>Tat exon 2 amino acid count table CSV file for each sample\n",
    "<li>Tat exon 2 amino acid frequency table CSV file for each sample\n",
    "</ul>"
   ]
  },
  {
   "cell_type": "markdown",
   "metadata": {},
   "source": [
    "# Import requirements and modules"
   ]
  },
  {
   "cell_type": "code",
   "execution_count": 1,
   "metadata": {},
   "outputs": [],
   "source": [
    "import os\n",
    "import sys\n",
    "import glob\n",
    "import time\n",
    "import pandas as pd\n",
    "pd.options.mode.chained_assignment = None"
   ]
  },
  {
   "cell_type": "code",
   "execution_count": 2,
   "metadata": {
    "collapsed": true
   },
   "outputs": [],
   "source": [
    "module_directory = '../code'\n",
    "modules = sys.path\n",
    "if module_directory not in modules:\n",
    "    sys.path.append(module_directory)\n",
    "\n",
    "import aa_count_preprocess as acp"
   ]
  },
  {
   "cell_type": "markdown",
   "metadata": {},
   "source": [
    "# Survey files"
   ]
  },
  {
   "cell_type": "code",
   "execution_count": 3,
   "metadata": {},
   "outputs": [
    {
     "name": "stdout",
     "output_type": "stream",
     "text": [
      "145 AA count files\n"
     ]
    }
   ],
   "source": [
    "# Files are stored in a separate directory, one above\n",
    "aa_count_files = glob.glob('../data/raw_counts/*.tsv')\n",
    "\n",
    "# Print the total number of files\n",
    "print(len(aa_count_files), 'AA count files')"
   ]
  },
  {
   "cell_type": "markdown",
   "metadata": {},
   "source": [
    "# Preprocessing"
   ]
  },
  {
   "cell_type": "code",
   "execution_count": 4,
   "metadata": {},
   "outputs": [],
   "source": [
    "def preprocess_files(aa_count_files, target):\n",
    "    for count_file in aa_count_files:    \n",
    "        out1 = count_file.replace('/raw_counts/','/freq_tables/')\n",
    "        out2 = count_file.replace('/raw_counts/','/freq_tables/')\n",
    "        out_file1 = out1.split('.AACounts')[0] + '-' + target + '.AAfreq.csv'\n",
    "        out_file2 = out2.split('.AACounts')[0] + '-' + target + '.AAfreqcount.csv'\n",
    "\n",
    "        df = acp.tsvfile_to_df(count_file, target)\n",
    "        nostop_df = acp.remove_stops(df)\n",
    "        freq_dict = acp.makeFreqDict(nostop_df)\n",
    "        count_dict = acp.makeCountDict(nostop_df)\n",
    "        freq_df = acp.freqToDataframe(freq_dict)\n",
    "        freq_df.to_csv(out_file1, index=False)    \n",
    "        count_df = acp.freqToDataframe(count_dict)\n",
    "        count_df.to_csv(out_file2, index=False)\n",
    "        \n",
    "    print(target, len(aa_count_files), 'AA count files processed')"
   ]
  },
  {
   "cell_type": "code",
   "execution_count": 5,
   "metadata": {},
   "outputs": [
    {
     "name": "stdout",
     "output_type": "stream",
     "text": [
      "Tat1 145 AA count files processed\n",
      "Tat2 145 AA count files processed\n"
     ]
    }
   ],
   "source": [
    "# Files are stored in a separate directory, one above\n",
    "aa_count_files = glob.glob('../data/raw_counts/*.tsv')\n",
    "\n",
    "preprocess_files(aa_count_files, 'Tat1')\n",
    "preprocess_files(aa_count_files, 'Tat2')"
   ]
  }
 ],
 "metadata": {
  "kernelspec": {
   "display_name": "Python 3",
   "language": "python",
   "name": "python3"
  },
  "language_info": {
   "codemirror_mode": {
    "name": "ipython",
    "version": 3
   },
   "file_extension": ".py",
   "mimetype": "text/x-python",
   "name": "python",
   "nbconvert_exporter": "python",
   "pygments_lexer": "ipython3",
   "version": "3.6.3"
  }
 },
 "nbformat": 4,
 "nbformat_minor": 2
}
